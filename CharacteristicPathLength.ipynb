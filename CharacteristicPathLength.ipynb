{
 "cells": [
  {
   "cell_type": "markdown",
   "metadata": {},
   "source": [
    "# Characteristic Path Length - Example"
   ]
  },
  {
   "cell_type": "code",
   "execution_count": 1,
   "metadata": {
    "collapsed": true
   },
   "outputs": [],
   "source": [
    "import networkx as nx\n",
    "import matplotlib.pyplot as plt"
   ]
  },
  {
   "cell_type": "code",
   "execution_count": 2,
   "metadata": {
    "collapsed": true
   },
   "outputs": [],
   "source": [
    "G = nx.DiGraph()\n",
    "G.add_node(1, label = 'A')\n",
    "G.add_node(2, label = 'B')\n",
    "G.add_node(3, label = 'A')\n",
    "G.add_node(4, label = 'B')\n",
    "G.add_node(5, label = 'A')\n",
    "\n",
    "\n",
    "G.add_edges_from([(1, 2), (2, 3), (3, 4), (4, 1), (5,1), (5,2)])\n",
    "G = G.to_undirected()"
   ]
  },
  {
   "cell_type": "code",
   "execution_count": 3,
   "metadata": {},
   "outputs": [
    {
     "data": {
      "image/png": "[encoded data removed]",
      "text/plain": [
       "<matplotlib.figure.Figure at 0x194a2684cf8>"
      ]
     },
     "metadata": {},
     "output_type": "display_data"
    }
   ],
   "source": [
    "labels=dict((n,d['label']) for n,d in G.nodes(data=True))\n",
    "nx.draw(G,labels=labels,node_size=1000,pos=nx.spring_layout(G))\n",
    "plt.show()"
   ]
  },
  {
   "cell_type": "code",
   "execution_count": 4,
   "metadata": {
    "collapsed": true
   },
   "outputs": [],
   "source": [
    "def extract_label(G, lab):\n",
    "    return [node[0] for node in G.nodes(data='label') if node[1] == lab ]"
   ]
  },
  {
   "cell_type": "code",
   "execution_count": 5,
   "metadata": {
    "collapsed": true
   },
   "outputs": [],
   "source": [
    "def cal_characteristic_path_length_sameLabel(G, label):\n",
    "    list_label = extract_label(G, label)\n",
    "    length = len(list_label)\n",
    "    d_ij = 0\n",
    "    n_ij = 0\n",
    "    for i in list_label:\n",
    "        for j in list_label:\n",
    "            if i == j:\n",
    "                continue\n",
    "            else:\n",
    "                n_ij = len([p for p in nx.all_shortest_paths(G, source=i, target=j)])\n",
    "                d_ij = d_ij + (nx.shortest_path_length(G,i,j) * n_ij)\n",
    "    return (1/(length*(length-1))*(d_ij/n_ij))"
   ]
  },
  {
   "cell_type": "code",
   "execution_count": 6,
   "metadata": {},
   "outputs": [
    {
     "data": {
      "text/plain": [
       "2.333333333333333"
      ]
     },
     "execution_count": 6,
     "metadata": {},
     "output_type": "execute_result"
    }
   ],
   "source": [
    "cal_characteristic_path_length_sameLabel(G, 'A')"
   ]
  },
  {
   "cell_type": "code",
   "execution_count": 7,
   "metadata": {
    "collapsed": true
   },
   "outputs": [],
   "source": [
    "def cal_characteristic_path_length_differentLabel(G, m, n):\n",
    "    amount_dij = []\n",
    "    list_label_m = extract_label(G, m)\n",
    "    list_label_n = extract_label(G, n) \n",
    "    d_ij = 0\n",
    "    n_ij = 0\n",
    "    tmp_dij = 0\n",
    "    for i in list_label_m:\n",
    "        for j in list_label_n:\n",
    "                n_ij = len([p for p in nx.all_shortest_paths(G, source=i, target=j)])\n",
    "                d_ij = d_ij + (nx.shortest_path_length(G,i,j) * n_ij)\n",
    "                tmp_dij = tmp_dij+ (d_ij/n_ij)\n",
    "                d_ij = 0\n",
    "                \n",
    "    return (1/(len(list_label_m)*(len(list_label_n)))*tmp_dij)"
   ]
  },
  {
   "cell_type": "code",
   "execution_count": 8,
   "metadata": {},
   "outputs": [
    {
     "data": {
      "text/plain": [
       "1.1666666666666665"
      ]
     },
     "execution_count": 8,
     "metadata": {},
     "output_type": "execute_result"
    }
   ],
   "source": [
    "cal_characteristic_path_length_differentLabel(G, 'A', 'B')"
   ]
  }
 ],
 "metadata": {
  "kernelspec": {
   "display_name": "Python 3",
   "language": "python",
   "name": "python3"
  },
  "language_info": {
   "codemirror_mode": {
    "name": "ipython",
    "version": 3
   },
   "file_extension": ".py",
   "mimetype": "text/x-python",
   "name": "python",
   "nbconvert_exporter": "python",
   "pygments_lexer": "ipython3",
   "version": "3.6.2"
  }
 },
 "nbformat": 4,
 "nbformat_minor": 2
}
