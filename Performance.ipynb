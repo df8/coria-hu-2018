{
 "cells": [
  {
   "cell_type": "markdown",
   "metadata": {},
   "source": [
    "# Performance - example"
   ]
  },
  {
   "cell_type": "code",
   "execution_count": 122,
   "metadata": {
    "collapsed": true
   },
   "outputs": [],
   "source": [
    "import matplotlib.pyplot as plt\n",
    "import networkx as nx\n",
    "import numpy as np"
   ]
  },
  {
   "cell_type": "code",
   "execution_count": 117,
   "metadata": {
    "collapsed": true
   },
   "outputs": [],
   "source": [
    "import networkx as nx\n",
    "import numpy as np\n",
    "G = nx.DiGraph()\n",
    "G.add_node(1, capacity = 1)\n",
    "G.add_node(2, capacity = 1)\n",
    "G.add_node(3, capacity = 1)\n",
    "G.add_node(4, capacity = 1)\n",
    "G.add_node(5, capacity = 1)\n",
    "\n",
    "\n",
    "G.add_edge(1, 2, capacity=3)\n",
    "G.add_edge(2, 3, capacity=1)\n",
    "G.add_edge(3, 4, capacity=3)\n",
    "G.add_edge(4, 3, capacity=5)\n",
    "G.add_edge(4, 5, capacity=4)\n",
    "G.add_edge(1, 4, capacity=2)\n",
    "G.add_edge(3, 5, capacity=2)\n",
    "G.add_edge(5, 2, capacity=3)\n",
    "G.add_edge(1, 5, capacity=3)\n",
    "\n",
    "G = G.to_undirected()"
   ]
  },
  {
   "cell_type": "code",
   "execution_count": 132,
   "metadata": {},
   "outputs": [
    {
     "data": {
      "text/plain": [
       "308"
      ]
     },
     "execution_count": 132,
     "metadata": {},
     "output_type": "execute_result"
    }
   ],
   "source": [
    "Performance(G)"
   ]
  },
  {
   "cell_type": "code",
   "execution_count": 42,
   "metadata": {},
   "outputs": [
    {
     "data": {
      "image/png": "[encoded data removed]",
      "text/plain": [
       "<matplotlib.figure.Figure at 0x1a38186fe48>"
      ]
     },
     "metadata": {},
     "output_type": "display_data"
    }
   ],
   "source": [
    "nx.draw(G,with_labels = True, node_size=1000,pos=nx.spring_layout(G))\n",
    "plt.show()"
   ]
  },
  {
   "cell_type": "code",
   "execution_count": 134,
   "metadata": {
    "collapsed": true
   },
   "outputs": [],
   "source": [
    "def Performance(G):\n",
    "    def capacity_b(Graph):\n",
    "        return np.array(np.repeat(1,len(Graph)))\n",
    "\n",
    "    def get_max_flow_demand(G):\n",
    "        results = []\n",
    "        max_flow = 0\n",
    "        for i in G:\n",
    "            for j in G:\n",
    "                if (i == j):\n",
    "                    continue\n",
    "                else:\n",
    "                    flow = nx.maximum_flow_value(G,i,j)\n",
    "                    flow = int(flow)\n",
    "                    results.append(flow)\n",
    "        return results\n",
    "\n",
    "\n",
    "    def fill_routing_matrix(route_graph):\n",
    "        routing_matrix = np.array(np.repeat(0, len(route_graph)))\n",
    "        # for each node in the graph calculate their standard shortest path routing with dijkstra\n",
    "        for n in route_graph:\n",
    "            all_path = nx.single_source_dijkstra_path(route_graph, n)     \n",
    "            # for each shortest path for one node in the graph define an array with n elements\n",
    "            # the element in the array is 1 when the shortest path flows through the node\n",
    "            # otherwise 0\n",
    "            for path in all_path:\n",
    "                tmp = np.array(np.repeat(0, len(route_graph)))\n",
    "                for path_element in all_path[path]:\n",
    "\n",
    "                    node_idx = 0\n",
    "                    for link in route_graph:       \n",
    "                        if(path_element == link):\n",
    "                            tmp[node_idx] = 1\n",
    "                            continue \n",
    "                        node_idx += 1      \n",
    "                # add each shortest path transformed into an array tmp to the routing matrix \n",
    "                if len(tmp) == len(route_graph):         \n",
    "                    routing_matrix = np.vstack([routing_matrix, tmp])          \n",
    "        return routing_matrix\n",
    "\n",
    "\n",
    "    b = capacity_b(G)    \n",
    "    R_fl = fill_routing_matrix(G)              \n",
    "    R_lf = np.transpose(R_fl)\n",
    "    x = np.array(np.repeat(1, len(R_fl)))  \n",
    "    Rx = np.dot(R_lf,x)\n",
    "    rho = 2\n",
    "    x = get_max_flow_demand(G)\n",
    "    Performance = rho*sum(x)\n",
    "    return Performance"
   ]
  },
  {
   "cell_type": "code",
   "execution_count": 133,
   "metadata": {},
   "outputs": [
    {
     "data": {
      "text/plain": [
       "308"
      ]
     },
     "execution_count": 133,
     "metadata": {},
     "output_type": "execute_result"
    }
   ],
   "source": [
    "Performance(G)"
   ]
  }
 ],
 "metadata": {
  "kernelspec": {
   "display_name": "Python 3",
   "language": "python",
   "name": "python3"
  },
  "language_info": {
   "codemirror_mode": {
    "name": "ipython",
    "version": 3
   },
   "file_extension": ".py",
   "mimetype": "text/x-python",
   "name": "python",
   "nbconvert_exporter": "python",
   "pygments_lexer": "ipython3",
   "version": "3.6.2"
  }
 },
 "nbformat": 4,
 "nbformat_minor": 2
}
